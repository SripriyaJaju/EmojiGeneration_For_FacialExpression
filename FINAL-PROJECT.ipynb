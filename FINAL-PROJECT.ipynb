{
 "cells": [
  {
   "cell_type": "code",
   "execution_count": 1,
   "id": "8eb96e3f",
   "metadata": {
    "scrolled": true
   },
   "outputs": [
    {
     "name": "stdout",
     "output_type": "stream",
     "text": [
      "Requirement already satisfied: opencv-python in c:\\users\\hi\\anaconda3\\lib\\site-packages (4.9.0.80)\n",
      "Requirement already satisfied: numpy>=1.21.2 in c:\\users\\hi\\anaconda3\\lib\\site-packages (from opencv-python) (1.24.3)\n",
      "Requirement already satisfied: tensorflow in c:\\users\\hi\\anaconda3\\lib\\site-packages (2.16.2)\n",
      "Requirement already satisfied: tensorflow-intel==2.16.2 in c:\\users\\hi\\anaconda3\\lib\\site-packages (from tensorflow) (2.16.2)\n",
      "Requirement already satisfied: absl-py>=1.0.0 in c:\\users\\hi\\anaconda3\\lib\\site-packages (from tensorflow-intel==2.16.2->tensorflow) (2.1.0)\n",
      "Requirement already satisfied: astunparse>=1.6.0 in c:\\users\\hi\\anaconda3\\lib\\site-packages (from tensorflow-intel==2.16.2->tensorflow) (1.6.3)\n",
      "Requirement already satisfied: flatbuffers>=23.5.26 in c:\\users\\hi\\anaconda3\\lib\\site-packages (from tensorflow-intel==2.16.2->tensorflow) (24.3.25)\n",
      "Requirement already satisfied: gast!=0.5.0,!=0.5.1,!=0.5.2,>=0.2.1 in c:\\users\\hi\\anaconda3\\lib\\site-packages (from tensorflow-intel==2.16.2->tensorflow) (0.6.0)\n",
      "Requirement already satisfied: google-pasta>=0.1.1 in c:\\users\\hi\\anaconda3\\lib\\site-packages (from tensorflow-intel==2.16.2->tensorflow) (0.2.0)\n",
      "Requirement already satisfied: h5py>=3.10.0 in c:\\users\\hi\\anaconda3\\lib\\site-packages (from tensorflow-intel==2.16.2->tensorflow) (3.11.0)\n",
      "Requirement already satisfied: libclang>=13.0.0 in c:\\users\\hi\\anaconda3\\lib\\site-packages (from tensorflow-intel==2.16.2->tensorflow) (18.1.1)\n",
      "Requirement already satisfied: ml-dtypes~=0.3.1 in c:\\users\\hi\\anaconda3\\lib\\site-packages (from tensorflow-intel==2.16.2->tensorflow) (0.3.2)\n",
      "Requirement already satisfied: opt-einsum>=2.3.2 in c:\\users\\hi\\anaconda3\\lib\\site-packages (from tensorflow-intel==2.16.2->tensorflow) (3.3.0)\n",
      "Requirement already satisfied: packaging in c:\\users\\hi\\anaconda3\\lib\\site-packages (from tensorflow-intel==2.16.2->tensorflow) (23.1)\n",
      "Requirement already satisfied: protobuf!=4.21.0,!=4.21.1,!=4.21.2,!=4.21.3,!=4.21.4,!=4.21.5,<5.0.0dev,>=3.20.3 in c:\\users\\hi\\anaconda3\\lib\\site-packages (from tensorflow-intel==2.16.2->tensorflow) (4.25.3)\n",
      "Requirement already satisfied: requests<3,>=2.21.0 in c:\\users\\hi\\anaconda3\\lib\\site-packages (from tensorflow-intel==2.16.2->tensorflow) (2.31.0)\n",
      "Requirement already satisfied: setuptools in c:\\users\\hi\\anaconda3\\lib\\site-packages (from tensorflow-intel==2.16.2->tensorflow) (68.0.0)\n",
      "Requirement already satisfied: six>=1.12.0 in c:\\users\\hi\\anaconda3\\lib\\site-packages (from tensorflow-intel==2.16.2->tensorflow) (1.16.0)\n",
      "Requirement already satisfied: termcolor>=1.1.0 in c:\\users\\hi\\anaconda3\\lib\\site-packages (from tensorflow-intel==2.16.2->tensorflow) (2.4.0)\n",
      "Requirement already satisfied: typing-extensions>=3.6.6 in c:\\users\\hi\\anaconda3\\lib\\site-packages (from tensorflow-intel==2.16.2->tensorflow) (4.7.1)\n",
      "Requirement already satisfied: wrapt>=1.11.0 in c:\\users\\hi\\anaconda3\\lib\\site-packages (from tensorflow-intel==2.16.2->tensorflow) (1.14.1)\n",
      "Requirement already satisfied: grpcio<2.0,>=1.24.3 in c:\\users\\hi\\anaconda3\\lib\\site-packages (from tensorflow-intel==2.16.2->tensorflow) (1.64.1)\n",
      "Requirement already satisfied: tensorboard<2.17,>=2.16 in c:\\users\\hi\\anaconda3\\lib\\site-packages (from tensorflow-intel==2.16.2->tensorflow) (2.16.2)\n",
      "Requirement already satisfied: keras>=3.0.0 in c:\\users\\hi\\anaconda3\\lib\\site-packages (from tensorflow-intel==2.16.2->tensorflow) (3.4.1)\n",
      "Requirement already satisfied: tensorflow-io-gcs-filesystem>=0.23.1 in c:\\users\\hi\\anaconda3\\lib\\site-packages (from tensorflow-intel==2.16.2->tensorflow) (0.31.0)\n",
      "Requirement already satisfied: numpy<2.0.0,>=1.23.5 in c:\\users\\hi\\anaconda3\\lib\\site-packages (from tensorflow-intel==2.16.2->tensorflow) (1.24.3)\n",
      "Requirement already satisfied: wheel<1.0,>=0.23.0 in c:\\users\\hi\\anaconda3\\lib\\site-packages (from astunparse>=1.6.0->tensorflow-intel==2.16.2->tensorflow) (0.38.4)\n",
      "Requirement already satisfied: rich in c:\\users\\hi\\anaconda3\\lib\\site-packages (from keras>=3.0.0->tensorflow-intel==2.16.2->tensorflow) (13.7.1)\n",
      "Requirement already satisfied: namex in c:\\users\\hi\\anaconda3\\lib\\site-packages (from keras>=3.0.0->tensorflow-intel==2.16.2->tensorflow) (0.0.8)\n",
      "Requirement already satisfied: optree in c:\\users\\hi\\anaconda3\\lib\\site-packages (from keras>=3.0.0->tensorflow-intel==2.16.2->tensorflow) (0.11.0)\n",
      "Requirement already satisfied: charset-normalizer<4,>=2 in c:\\users\\hi\\anaconda3\\lib\\site-packages (from requests<3,>=2.21.0->tensorflow-intel==2.16.2->tensorflow) (2.0.4)\n",
      "Requirement already satisfied: idna<4,>=2.5 in c:\\users\\hi\\anaconda3\\lib\\site-packages (from requests<3,>=2.21.0->tensorflow-intel==2.16.2->tensorflow) (3.4)\n",
      "Requirement already satisfied: urllib3<3,>=1.21.1 in c:\\users\\hi\\anaconda3\\lib\\site-packages (from requests<3,>=2.21.0->tensorflow-intel==2.16.2->tensorflow) (1.26.16)\n",
      "Requirement already satisfied: certifi>=2017.4.17 in c:\\users\\hi\\anaconda3\\lib\\site-packages (from requests<3,>=2.21.0->tensorflow-intel==2.16.2->tensorflow) (2023.11.17)\n",
      "Requirement already satisfied: markdown>=2.6.8 in c:\\users\\hi\\anaconda3\\lib\\site-packages (from tensorboard<2.17,>=2.16->tensorflow-intel==2.16.2->tensorflow) (3.4.1)\n",
      "Requirement already satisfied: tensorboard-data-server<0.8.0,>=0.7.0 in c:\\users\\hi\\anaconda3\\lib\\site-packages (from tensorboard<2.17,>=2.16->tensorflow-intel==2.16.2->tensorflow) (0.7.2)\n",
      "Requirement already satisfied: werkzeug>=1.0.1 in c:\\users\\hi\\anaconda3\\lib\\site-packages (from tensorboard<2.17,>=2.16->tensorflow-intel==2.16.2->tensorflow) (2.2.3)\n",
      "Requirement already satisfied: MarkupSafe>=2.1.1 in c:\\users\\hi\\anaconda3\\lib\\site-packages (from werkzeug>=1.0.1->tensorboard<2.17,>=2.16->tensorflow-intel==2.16.2->tensorflow) (2.1.1)\n",
      "Requirement already satisfied: markdown-it-py>=2.2.0 in c:\\users\\hi\\anaconda3\\lib\\site-packages (from rich->keras>=3.0.0->tensorflow-intel==2.16.2->tensorflow) (2.2.0)\n",
      "Requirement already satisfied: pygments<3.0.0,>=2.13.0 in c:\\users\\hi\\anaconda3\\lib\\site-packages (from rich->keras>=3.0.0->tensorflow-intel==2.16.2->tensorflow) (2.15.1)\n",
      "Requirement already satisfied: mdurl~=0.1 in c:\\users\\hi\\anaconda3\\lib\\site-packages (from markdown-it-py>=2.2.0->rich->keras>=3.0.0->tensorflow-intel==2.16.2->tensorflow) (0.1.0)\n"
     ]
    }
   ],
   "source": [
    "import numpy as np \n",
    "import matplotlib.pyplot as plt \n",
    "import seaborn as sb \n",
    "from PIL import Image \n",
    "\n",
    "from sklearn import metrics \n",
    "\n",
    "!pip install opencv-python\n",
    "import cv2 \n",
    "import os \n",
    "\n",
    "from glob import glob\n",
    "!pip install tensorflow\n",
    "\n",
    "import tensorflow as tf \n",
    "from tensorflow import keras \n",
    "from keras import layers \n",
    "from tensorflow.keras.preprocessing.image import ImageDataGenerator \n",
    "\n",
    "import warnings \n",
    "warnings.filterwarnings('ignore')\n"
   ]
  },
  {
   "cell_type": "code",
   "execution_count": 2,
   "id": "c5c76492",
   "metadata": {},
   "outputs": [
    {
     "data": {
      "text/plain": [
       "['angry', 'disgust', 'fear', 'happy', 'neutral', 'sad', 'surprise']"
      ]
     },
     "execution_count": 2,
     "metadata": {},
     "output_type": "execute_result"
    }
   ],
   "source": [
    "path = \"D:/7092/train\"\n",
    "classes = os.listdir(path) \n",
    "classes"
   ]
  },
  {
   "cell_type": "code",
   "execution_count": 3,
   "id": "a8f30f94-df35-42b1-b409-2b4ebaed1a15",
   "metadata": {},
   "outputs": [
    {
     "data": {
      "image/png": "[encoded data removed]",
      "text/plain": [
       "<Figure size 640x480 with 1 Axes>"
      ]
     },
     "metadata": {},
     "output_type": "display_data"
    }
   ],
   "source": [
    "import seaborn as sb\n",
    "import matplotlib.pyplot as plt\n",
    "import os\n",
    "\n",
    "path = \"D:/7092/train\"\n",
    "classes = os.listdir(path)\n",
    "count = []\n",
    "\n",
    "for cat in classes: \n",
    "    count.append(len(os.listdir(f'{path}/{cat}')))\n",
    "\n",
    "sb.barplot(x=classes, y=count) \n",
    "plt.show()\n"
   ]
  },
  {
   "cell_type": "code",
   "execution_count": 4,
   "id": "57ddd527",
   "metadata": {},
   "outputs": [
    {
     "data": {
      "text/plain": [
       "['angry', 'disgust', 'fear', 'happy', 'neutral', 'sad', 'surprise']"
      ]
     },
     "execution_count": 4,
     "metadata": {},
     "output_type": "execute_result"
    }
   ],
   "source": [
    "path = \"D:/7092/test\"\n",
    "classes = os.listdir(path) \n",
    "classes"
   ]
  },
  {
   "cell_type": "code",
   "execution_count": 5,
   "id": "96dbd98d-3c46-4f14-9ab0-905403cc7807",
   "metadata": {},
   "outputs": [
    {
     "data": {
      "image/png": "[encoded data removed]",
      "text/plain": [
       "<Figure size 640x480 with 1 Axes>"
      ]
     },
     "metadata": {},
     "output_type": "display_data"
    }
   ],
   "source": [
    "import seaborn as sb\n",
    "import matplotlib.pyplot as plt\n",
    "import os\n",
    "\n",
    "path = \"D:/7092/test\"\n",
    "classes = os.listdir(path)\n",
    "count = []\n",
    "\n",
    "for cat in classes: \n",
    "    count.append(len(os.listdir(f'{path}/{cat}')))\n",
    "\n",
    "sb.barplot(x=classes, y=count) \n",
    "plt.show()\n"
   ]
  },
  {
   "cell_type": "code",
   "execution_count": 6,
   "id": "276fca47",
   "metadata": {},
   "outputs": [],
   "source": [
    "def convert_to_48x48_png(image_path):\n",
    "    # Open image using PIL\n",
    "    img = Image.open(image_path)\n",
    "    \n",
    "    # Check if image is already 48x48 and PNG\n",
    "    if img.size == (48, 48) and img.format == 'PNG':\n",
    "        print(f\"Skipping {image_path} - Already 48x48 PNG\")\n",
    "        return\n",
    "    \n",
    "    # Convert to 48x48 grayscale PNG\n",
    "    img = img.convert('L')  # Convert to grayscale if not already\n",
    "    img = img.resize((48, 48))  # Resize to 48x48\n",
    "    \n",
    "    # Save as PNG\n",
    "    new_path = os.path.splitext(image_path)[0] + '.png'\n",
    "    img.save(new_path, format='PNG')\n",
    "    \n",
    "    print(f\"Converted {image_path} to {new_path}\")\n",
    "    \n",
    "    \n",
    "directory = \"D:/7092/train\"\n",
    "\n",
    "for filename in os.listdir(directory):\n",
    "    if filename.endswith('.jpg') or filename.endswith('.jpeg') or filename.endswith('.png'):\n",
    "        image_path = os.path.join(directory, filename)\n",
    "        convert_to_48x48_png(image_path)\n"
   ]
  },
  {
   "cell_type": "code",
   "execution_count": 7,
   "id": "d636532a",
   "metadata": {},
   "outputs": [
    {
     "name": "stdout",
     "output_type": "stream",
     "text": [
      "Found 28709 images belonging to 7 classes.\n"
     ]
    }
   ],
   "source": [
    "\n",
    "train_datagen = ImageDataGenerator(rescale=1./255) \n",
    "val_datagen = ImageDataGenerator(rescale=1./255) \n",
    "  \n",
    "train_gen = train_datagen.flow_from_directory( \n",
    "        \"D:/7092/train\", \n",
    "        target_size=(48,48), \n",
    "        batch_size=64, \n",
    "        color_mode=\"grayscale\", \n",
    "        class_mode='categorical')"
   ]
  },
  {
   "cell_type": "code",
   "execution_count": 8,
   "id": "565d72de",
   "metadata": {},
   "outputs": [
    {
     "name": "stdout",
     "output_type": "stream",
     "text": [
      "Found 7178 images belonging to 7 classes.\n"
     ]
    }
   ],
   "source": [
    "val_gen = val_datagen.flow_from_directory( \n",
    "        \"D:/7092/test\", \n",
    "        target_size=(48,48), \n",
    "        batch_size=64, \n",
    "        color_mode=\"grayscale\", \n",
    "        class_mode='categorical')"
   ]
  },
  {
   "cell_type": "code",
   "execution_count": 9,
   "id": "6c79d771",
   "metadata": {},
   "outputs": [],
   "source": [
    "emotions = list(train_gen.class_indices.keys())\n"
   ]
  },
  {
   "cell_type": "code",
   "execution_count": 10,
   "id": "7565f08a",
   "metadata": {},
   "outputs": [],
   "source": [
    "from tensorflow.keras.models import Sequential\n",
    "from tensorflow.keras import layers\n",
    "\n",
    "model = Sequential([ \n",
    "    layers.Conv2D(32, (3, 3), activation='relu', input_shape=(48, 48, 1)),\t\t\t\t\t\t\t\t\t \n",
    "    layers.Conv2D(64, (3, 3), activation='relu'), \n",
    "    layers.MaxPooling2D(2, 2), \n",
    "    layers.Flatten(), \n",
    "    layers.Dense(64, activation='relu'), \n",
    "    layers.BatchNormalization(),\t\t\t\t\t\t\t\t \n",
    "    layers.Dense(32, activation='relu'), \n",
    "    layers.Dropout(0.3), \n",
    "    layers.BatchNormalization(), \n",
    "    layers.Dense(7, activation='softmax') \n",
    "])\n"
   ]
  },
  {
   "cell_type": "code",
   "execution_count": 11,
   "id": "4c637994",
   "metadata": {},
   "outputs": [],
   "source": [
    "model.compile( \n",
    "\toptimizer = 'adam', \n",
    "\tloss = 'categorical_crossentropy', \n",
    "\tmetrics=['accuracy'] \n",
    ")\n"
   ]
  },
  {
   "cell_type": "code",
   "execution_count": 12,
   "id": "84b46303",
   "metadata": {},
   "outputs": [],
   "source": [
    "from tensorflow.keras.callbacks import EarlyStopping, ReduceLROnPlateau\n",
    "import tensorflow as tf\n",
    "\n",
    "class myCallback(tf.keras.callbacks.Callback): \n",
    "    def on_epoch_end(self, epoch, logs={}): \n",
    "        if logs.get('val_accuracy') > 0.90: \n",
    "            print('\\n Validation accuracy has reached upto 90% so, stopping further training.') \n",
    "            self.model.stop_training = True\n",
    "\n",
    "es = EarlyStopping(patience=3, monitor='val_accuracy', restore_best_weights=True) \n",
    "lr = ReduceLROnPlateau(monitor='val_loss', patience=2, factor=0.5, verbose=1)"
   ]
  },
  {
   "cell_type": "code",
   "execution_count": 13,
   "id": "2211a3a7",
   "metadata": {},
   "outputs": [
    {
     "name": "stdout",
     "output_type": "stream",
     "text": [
      "Epoch 1/50\n",
      "\u001b[1m449/449\u001b[0m \u001b[32m━━━━━━━━━━━━━━━━━━━━\u001b[0m\u001b[37m\u001b[0m \u001b[1m249s\u001b[0m 542ms/step - accuracy: 0.2653 - loss: 1.9594 - val_accuracy: 0.3456 - val_loss: 1.8691 - learning_rate: 0.0010\n",
      "Epoch 2/50\n",
      "\u001b[1m449/449\u001b[0m \u001b[32m━━━━━━━━━━━━━━━━━━━━\u001b[0m\u001b[37m\u001b[0m \u001b[1m59s\u001b[0m 131ms/step - accuracy: 0.4603 - loss: 1.4281 - val_accuracy: 0.3515 - val_loss: 1.7150 - learning_rate: 0.0010\n",
      "Epoch 3/50\n",
      "\u001b[1m449/449\u001b[0m \u001b[32m━━━━━━━━━━━━━━━━━━━━\u001b[0m\u001b[37m\u001b[0m \u001b[1m62s\u001b[0m 137ms/step - accuracy: 0.5166 - loss: 1.2923 - val_accuracy: 0.4262 - val_loss: 1.4988 - learning_rate: 0.0010\n",
      "Epoch 4/50\n",
      "\u001b[1m449/449\u001b[0m \u001b[32m━━━━━━━━━━━━━━━━━━━━\u001b[0m\u001b[37m\u001b[0m \u001b[1m63s\u001b[0m 140ms/step - accuracy: 0.5601 - loss: 1.1754 - val_accuracy: 0.4368 - val_loss: 1.4797 - learning_rate: 0.0010\n",
      "Epoch 5/50\n",
      "\u001b[1m449/449\u001b[0m \u001b[32m━━━━━━━━━━━━━━━━━━━━\u001b[0m\u001b[37m\u001b[0m \u001b[1m62s\u001b[0m 138ms/step - accuracy: 0.6011 - loss: 1.0740 - val_accuracy: 0.3631 - val_loss: 1.9210 - learning_rate: 0.0010\n",
      "Epoch 6/50\n",
      "\u001b[1m449/449\u001b[0m \u001b[32m━━━━━━━━━━━━━━━━━━━━\u001b[0m\u001b[37m\u001b[0m \u001b[1m0s\u001b[0m 128ms/step - accuracy: 0.6507 - loss: 0.9411\n",
      "Epoch 6: ReduceLROnPlateau reducing learning rate to 0.0005000000237487257.\n",
      "\u001b[1m449/449\u001b[0m \u001b[32m━━━━━━━━━━━━━━━━━━━━\u001b[0m\u001b[37m\u001b[0m \u001b[1m62s\u001b[0m 138ms/step - accuracy: 0.6507 - loss: 0.9411 - val_accuracy: 0.4237 - val_loss: 1.6868 - learning_rate: 0.0010\n",
      "Epoch 7/50\n",
      "\u001b[1m449/449\u001b[0m \u001b[32m━━━━━━━━━━━━━━━━━━━━\u001b[0m\u001b[37m\u001b[0m \u001b[1m67s\u001b[0m 148ms/step - accuracy: 0.7174 - loss: 0.7918 - val_accuracy: 0.5065 - val_loss: 1.5241 - learning_rate: 5.0000e-04\n",
      "Epoch 8/50\n",
      "\u001b[1m449/449\u001b[0m \u001b[32m━━━━━━━━━━━━━━━━━━━━\u001b[0m\u001b[37m\u001b[0m \u001b[1m0s\u001b[0m 128ms/step - accuracy: 0.7636 - loss: 0.6603\n",
      "Epoch 8: ReduceLROnPlateau reducing learning rate to 0.0002500000118743628.\n",
      "\u001b[1m449/449\u001b[0m \u001b[32m━━━━━━━━━━━━━━━━━━━━\u001b[0m\u001b[37m\u001b[0m \u001b[1m62s\u001b[0m 137ms/step - accuracy: 0.7636 - loss: 0.6603 - val_accuracy: 0.4046 - val_loss: 2.2653 - learning_rate: 5.0000e-04\n",
      "Epoch 9/50\n",
      "\u001b[1m449/449\u001b[0m \u001b[32m━━━━━━━━━━━━━━━━━━━━\u001b[0m\u001b[37m\u001b[0m \u001b[1m62s\u001b[0m 138ms/step - accuracy: 0.8089 - loss: 0.5472 - val_accuracy: 0.5093 - val_loss: 1.6148 - learning_rate: 2.5000e-04\n",
      "Epoch 10/50\n",
      "\u001b[1m449/449\u001b[0m \u001b[32m━━━━━━━━━━━━━━━━━━━━\u001b[0m\u001b[37m\u001b[0m \u001b[1m0s\u001b[0m 129ms/step - accuracy: 0.8342 - loss: 0.4754\n",
      "Epoch 10: ReduceLROnPlateau reducing learning rate to 0.0001250000059371814.\n",
      "\u001b[1m449/449\u001b[0m \u001b[32m━━━━━━━━━━━━━━━━━━━━\u001b[0m\u001b[37m\u001b[0m \u001b[1m62s\u001b[0m 138ms/step - accuracy: 0.8342 - loss: 0.4754 - val_accuracy: 0.4994 - val_loss: 1.8659 - learning_rate: 2.5000e-04\n",
      "Epoch 11/50\n",
      "\u001b[1m449/449\u001b[0m \u001b[32m━━━━━━━━━━━━━━━━━━━━\u001b[0m\u001b[37m\u001b[0m \u001b[1m67s\u001b[0m 148ms/step - accuracy: 0.8535 - loss: 0.4237 - val_accuracy: 0.5031 - val_loss: 1.7664 - learning_rate: 1.2500e-04\n",
      "Epoch 12/50\n",
      "\u001b[1m449/449\u001b[0m \u001b[32m━━━━━━━━━━━━━━━━━━━━\u001b[0m\u001b[37m\u001b[0m \u001b[1m0s\u001b[0m 152ms/step - accuracy: 0.8682 - loss: 0.3886\n",
      "Epoch 12: ReduceLROnPlateau reducing learning rate to 6.25000029685907e-05.\n",
      "\u001b[1m449/449\u001b[0m \u001b[32m━━━━━━━━━━━━━━━━━━━━\u001b[0m\u001b[37m\u001b[0m \u001b[1m73s\u001b[0m 163ms/step - accuracy: 0.8682 - loss: 0.3886 - val_accuracy: 0.5042 - val_loss: 1.7672 - learning_rate: 1.2500e-04\n"
     ]
    }
   ],
   "source": [
    "history = model.fit(train_gen, \n",
    "\t\t\t\t\tvalidation_data = val_gen, \n",
    "\t\t\t\t\tepochs = 50, \n",
    "                    \n",
    "\t\t\t\t\tverbose = 1, \n",
    "\t\t\t\t\tcallbacks = [es, lr, myCallback()])\n"
   ]
  },
  {
   "cell_type": "code",
   "execution_count": 14,
   "id": "318fef63",
   "metadata": {},
   "outputs": [
    {
     "name": "stdout",
     "output_type": "stream",
     "text": [
      "\u001b[1m113/113\u001b[0m \u001b[32m━━━━━━━━━━━━━━━━━━━━\u001b[0m\u001b[37m\u001b[0m \u001b[1m4s\u001b[0m 33ms/step - accuracy: 0.5059 - loss: 1.6149\n",
      "Validation Accuracy: 50.93%\n"
     ]
    }
   ],
   "source": [
    "loss, accuracy = model.evaluate(val_gen, verbose=1)\n",
    "print(f'Validation Accuracy: {accuracy * 100:.2f}%')\n",
    "\n",
    "# Save the model\n",
    "model.save('raffer_model.keras')"
   ]
  },
  {
   "cell_type": "code",
   "execution_count": 15,
   "id": "542f97ce",
   "metadata": {},
   "outputs": [],
   "source": [
    "def plot_image(img, emoj): \n",
    "\twmin = 200\n",
    "\thmin = 200\n",
    "\n",
    "\temoj = cv2.resize(emoj, (wmin, hmin)) \n",
    "\timg = cv2.resize(img, (wmin, hmin)) \n",
    "\tcv2.imshow('Images', cv2.hconcat([img, emoj]))\n",
    "\n",
    "    \n"
   ]
  },
  {
   "cell_type": "code",
   "execution_count": 71,
   "id": "6d5828b6-37ce-4214-98bb-b4636398ffd3",
   "metadata": {},
   "outputs": [],
   "source": [
    "### Final code"
   ]
  },
  {
   "cell_type": "code",
   "execution_count": 51,
   "id": "fa54f51d-946d-44f5-9f43-594fc5dce527",
   "metadata": {},
   "outputs": [
    {
     "name": "stdout",
     "output_type": "stream",
     "text": [
      "\u001b[1m1/1\u001b[0m \u001b[32m━━━━━━━━━━━━━━━━━━━━\u001b[0m\u001b[37m\u001b[0m \u001b[1m0s\u001b[0m 97ms/step\n",
      "{'fear'}\n"
     ]
    }
   ],
   "source": [
    "import cv2\n",
    "import numpy as np\n",
    "from tkinter import Tk\n",
    "\n",
    "# Function to load and preprocess the image\n",
    "def load_and_preprocess_image(image_path):\n",
    "    img = cv2.imread(image_path)\n",
    "    if img is None:\n",
    "        raise IOError('Failed to load image file.')\n",
    "    gray = cv2.cvtColor(img, cv2.COLOR_BGR2GRAY)\n",
    "    return img, gray\n",
    "\n",
    "# Function to detect faces using Haar Cascade\n",
    "def detect_faces(gray_img):\n",
    "    face_cascade = cv2.CascadeClassifier(cv2.data.haarcascades + 'haarcascade_frontalface_default.xml')\n",
    "    faces = face_cascade.detectMultiScale(gray_img, scaleFactor=1.1, minNeighbors=5, minSize=(30, 30))\n",
    "    return faces\n",
    "\n",
    "# Placeholder for model and classes\n",
    "# Assuming 'model' and 'classes' are already defined and loaded\n",
    "# model = ... (load your model here)\n",
    "# classes = ... (define your classes here)\n",
    "\n",
    "# Function to preprocess face ROI for model prediction\n",
    "def preprocess_face(face_roi):\n",
    "    face_roi = cv2.resize(face_roi, (48, 48))\n",
    "    face_roi = face_roi.astype('float32') / 255.0  # Normalize pixel values\n",
    "    face_roi = np.expand_dims(face_roi, axis=-1)\n",
    "    face_roi = np.expand_dims(face_roi, axis=0)\n",
    "    return face_roi\n",
    "\n",
    "# Function to predict emotion from face ROI\n",
    "def predict_emotion(face_roi, model):\n",
    "    pred = model.predict(face_roi)\n",
    "    idx = pred.argmax(axis=-1)[0]\n",
    "    return idx\n",
    "\n",
    "# Function to load and resize emoji\n",
    "def load_and_resize_emoji(emoji_path, w, h):\n",
    "    emoj = cv2.imread(emoji_path)\n",
    "    if emoj is not None:\n",
    "        emoj = cv2.resize(emoj, (w, h))\n",
    "    return emoj\n",
    "\n",
    "# Function to overlay emoji on the face region\n",
    "def overlay_emoji(img, emoj, x, y, w, h):\n",
    "    if emoj is not None:\n",
    "        img[y:y+h, x:x+w] = emoj\n",
    "    else:\n",
    "        print(f'Error: Emoji file not found. Skipping emoji overlay.')\n",
    "\n",
    "# Function to resize images to fit within given dimensions\n",
    "def resize_to_fit(img, max_width, max_height):\n",
    "    height, width = img.shape[:2]\n",
    "    scaling_factor = min(max_width / width, max_height / height)\n",
    "    new_width = int(width * scaling_factor)\n",
    "    new_height = int(height * scaling_factor)\n",
    "    return cv2.resize(img, (new_width, new_height), interpolation=cv2.INTER_AREA)\n",
    "\n",
    "# Function to display images using cv2.imshow() in a single canvas\n",
    "def plot_images_cv2(original_img, gray_img, emoj_img, class_name):\n",
    "    # Resize images to fit within a grid cell\n",
    "    max_width = 300\n",
    "    max_height = 300\n",
    "    original_img_resized = resize_to_fit(original_img, max_width, max_height)\n",
    "    gray_img_resized = cv2.cvtColor(resize_to_fit(gray_img, max_width, max_height), cv2.COLOR_GRAY2BGR)\n",
    "    \n",
    "    if emoj_img is not None:\n",
    "        emoj_img_resized = resize_to_fit(emoj_img, max_width, max_height)\n",
    "    else:\n",
    "        emoj_img_resized = np.zeros((max_height, max_width, 3), dtype=np.uint8)\n",
    "    \n",
    "    class_img = np.zeros((max_height, max_width, 3), dtype=np.uint8)\n",
    "    cv2.putText(class_img, class_name, (10, max_height // 2), cv2.FONT_HERSHEY_SIMPLEX, 1, (255, 255, 255), 2, cv2.LINE_AA)\n",
    "\n",
    "    # Create a canvas to hold the 2x2 grid\n",
    "    top_row = np.hstack((original_img_resized, gray_img_resized))\n",
    "    bottom_row = np.hstack((emoj_img_resized, class_img))\n",
    "    canvas = np.vstack((top_row, bottom_row))\n",
    "\n",
    "    # Display the canvas\n",
    "    cv2.imshow('Images', canvas)\n",
    "\n",
    "# Main function to process the image and overlay emojis\n",
    "def main(image_path):\n",
    "    img, gray = load_and_preprocess_image(image_path)\n",
    "    original_img = img.copy()  # Keep a copy of the original image\n",
    "    faces = detect_faces(gray)\n",
    "\n",
    "    if len(faces) == 0:\n",
    "        print(\"No faces detected.\")\n",
    "        emoj = None\n",
    "        class_name = 'No faces detected'\n",
    "    else:\n",
    "        for (x, y, w, h) in faces:\n",
    "            x1, y1, x2, y2 = max(x, 0), max(y, 0), min(x + w, img.shape[1]), min(y + h, img.shape[0])\n",
    "            face_roi = gray[y1:y2, x1:x2]\n",
    "            face_roi = preprocess_face(face_roi)\n",
    "\n",
    "            # Ensure 'model' and 'classes' are defined before this step\n",
    "            idx = predict_emotion(face_roi, model)\n",
    "            emoji_path = f'D:/7092/emojis/{classes[idx]}.jpg'\n",
    "            emoj = load_and_resize_emoji(emoji_path, w, h)\n",
    "            overlay_emoji(img, emoj, x, y, w, h)\n",
    "            class_name = classes[idx]\n",
    "            print({class_name})\n",
    "\n",
    "    # Display the final result using cv2.imshow()\n",
    "    plot_images_cv2(original_img, gray, emoj, class_name)\n",
    "\n",
    "    if cv2.waitKey(0) & 0xFF == ord('q'):\n",
    "        cv2.destroyAllWindows()\n",
    "\n",
    "# Assuming 'model' and 'classes' are loaded here\n",
    "# model = ... (load your model here)\n",
    "# classes = ... (define your classes here)\n",
    "\n",
    "# Run the main function\n",
    "main(\"D:/7092/feartest.jpg\")\n"
   ]
  },
  {
   "cell_type": "code",
   "execution_count": 66,
   "id": "d9fd3635-bd5b-4dc1-849c-e1dca62826f4",
   "metadata": {},
   "outputs": [],
   "source": [
    "### Output is only 2 images"
   ]
  },
  {
   "cell_type": "code",
   "execution_count": 64,
   "id": "2f3912d2-bf9a-4d82-bbde-c62cb4bf31c9",
   "metadata": {},
   "outputs": [
    {
     "name": "stdout",
     "output_type": "stream",
     "text": [
      "\u001b[1m1/1\u001b[0m \u001b[32m━━━━━━━━━━━━━━━━━━━━\u001b[0m\u001b[37m\u001b[0m \u001b[1m0s\u001b[0m 66ms/step\n",
      "{'neutral'}\n"
     ]
    }
   ],
   "source": [
    "import cv2\n",
    "import numpy as np\n",
    "from tkinter import Tk\n",
    "\n",
    "# Function to load and preprocess the image\n",
    "def load_and_preprocess_image(image_path):\n",
    "    img = cv2.imread(image_path)\n",
    "    if img is None:\n",
    "        raise IOError('Failed to load image file.')\n",
    "    gray = cv2.cvtColor(img, cv2.COLOR_BGR2GRAY)\n",
    "    return img, gray\n",
    "\n",
    "# Function to detect faces using Haar Cascade\n",
    "def detect_faces(gray_img):\n",
    "    face_cascade = cv2.CascadeClassifier(cv2.data.haarcascades + 'haarcascade_frontalface_default.xml')\n",
    "    faces = face_cascade.detectMultiScale(gray_img, scaleFactor=1.1, minNeighbors=5, minSize=(30, 30))\n",
    "    return faces\n",
    "\n",
    "# Placeholder for model and classes\n",
    "# Assuming 'model' and 'classes' are already defined and loaded\n",
    "# model = ... (load your model here)\n",
    "# classes = ... (define your classes here)\n",
    "\n",
    "# Function to preprocess face ROI for model prediction\n",
    "def preprocess_face(face_roi):\n",
    "    face_roi = cv2.resize(face_roi, (48, 48))\n",
    "    face_roi = face_roi.astype('float32') / 255.0  # Normalize pixel values\n",
    "    face_roi = np.expand_dims(face_roi, axis=-1)\n",
    "    face_roi = np.expand_dims(face_roi, axis=0)\n",
    "    return face_roi\n",
    "\n",
    "# Function to predict emotion from face ROI\n",
    "def predict_emotion(face_roi, model):\n",
    "    pred = model.predict(face_roi)\n",
    "    idx = pred.argmax(axis=-1)[0]\n",
    "    return idx\n",
    "\n",
    "# Function to load and resize emoji\n",
    "def load_and_resize_emoji(emoji_path, w, h):\n",
    "    emoj = cv2.imread(emoji_path)\n",
    "    if emoj is not None:\n",
    "        emoj = cv2.resize(emoj, (w, h))\n",
    "    return emoj\n",
    "\n",
    "# Function to overlay emoji on the face region\n",
    "def overlay_emoji(img, emoj, x, y, w, h):\n",
    "    if emoj is not None:\n",
    "        img[y:y+h, x:x+w] = emoj\n",
    "    else:\n",
    "        print(f'Error: Emoji file not found. Skipping emoji overlay.')\n",
    "\n",
    "# Function to display images using Tkinter for screen dimensions\n",
    "def plot_image(img, emoj):\n",
    "    root = Tk()\n",
    "    screen_width = root.winfo_screenwidth()\n",
    "    screen_height = root.winfo_screenheight()\n",
    "    root.destroy()\n",
    "\n",
    "    wmin = screen_width // 2\n",
    "    hmin = screen_height // 2\n",
    "\n",
    "    def resize_to_fit(img, max_width, max_height):\n",
    "        height, width = img.shape[:2]\n",
    "        scaling_factor = min(max_width / width, max_height / height)\n",
    "        new_width = int(width * scaling_factor)\n",
    "        new_height = int(height * scaling_factor)\n",
    "        return cv2.resize(img, (new_width, new_height), interpolation=cv2.INTER_AREA)\n",
    "\n",
    "    emoj_resized = resize_to_fit(emoj, wmin, hmin)\n",
    "    img_resized = resize_to_fit(img, wmin, hmin)\n",
    "\n",
    "    combined_img = cv2.hconcat([img_resized, emoj_resized])\n",
    "    cv2.imshow('Image', combined_img)\n",
    "\n",
    "# Main function to process the image and overlay emojis\n",
    "def main(image_path):\n",
    "    img, gray = load_and_preprocess_image(image_path)\n",
    "    faces = detect_faces(gray)\n",
    "\n",
    "    if len(faces) == 0:\n",
    "        print(\"No faces detected.\")\n",
    "    else:\n",
    "        for (x, y, w, h) in faces:\n",
    "            x1, y1, x2, y2 = max(x, 0), max(y, 0), min(x + w, img.shape[1]), min(y + h, img.shape[0])\n",
    "            face_roi = gray[y1:y2, x1:x2]\n",
    "            face_roi = preprocess_face(face_roi)\n",
    "\n",
    "            # Ensure 'model' and 'classes' are defined before this step\n",
    "            idx = predict_emotion(face_roi, model)\n",
    "            emoji_path = f'C:/Users/majet_nb3xz3h/Desktop/project/emoji1/emojis/emojis1/{classes[idx]}.png'\n",
    "            emoj = load_and_resize_emoji(emoji_path, w, h)\n",
    "            overlay_emoji(img, emoj, x, y, w, h)\n",
    "            print({classes[idx]})\n",
    "\n",
    "\n",
    "    # Display the final result\n",
    "    plot_image(img, emoj)\n",
    "    if cv2.waitKey(0) & 0xFF == ord('q'):\n",
    "        cv2.destroyAllWindows()\n",
    "\n",
    "# Run the main function\n",
    "main(\"C:/Users/majet_nb3xz3h/Desktop/project/neutraltest.jpeg\")\n"
   ]
  }
 ],
 "metadata": {
  "kernelspec": {
   "display_name": "Python 3 (ipykernel)",
   "language": "python",
   "name": "python3"
  },
  "language_info": {
   "codemirror_mode": {
    "name": "ipython",
    "version": 3
   },
   "file_extension": ".py",
   "mimetype": "text/x-python",
   "name": "python",
   "nbconvert_exporter": "python",
   "pygments_lexer": "ipython3",
   "version": "3.11.5"
  }
 },
 "nbformat": 4,
 "nbformat_minor": 5
}
